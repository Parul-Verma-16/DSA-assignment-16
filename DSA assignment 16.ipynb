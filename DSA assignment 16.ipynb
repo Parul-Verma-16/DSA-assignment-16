{
 "cells": [
  {
   "cell_type": "markdown",
   "id": "8963e3b1",
   "metadata": {},
   "source": [
    "## **Q1.** Given an array, for each element find the value of the nearest element to the right which is having a frequency greater than that of the current element. If there does not exist an answer for a position, then make the value ‘-1’."
   ]
  },
  {
   "cell_type": "code",
   "execution_count": 1,
   "id": "a871d6a0",
   "metadata": {},
   "outputs": [
    {
     "name": "stdout",
     "output_type": "stream",
     "text": [
      "[-1, -1, 1, 2, 2, 1, -1]\n",
      "[2, 2, 2, -1, -1, -1, -1, 3, -1, -1]\n"
     ]
    }
   ],
   "source": [
    "def find_nearest_greater_frequency(arr):\n",
    "    frequency_map = {}\n",
    "    stack = []\n",
    "    result = []\n",
    "\n",
    "    for num in arr:\n",
    "        if num in frequency_map:\n",
    "            frequency_map[num] += 1\n",
    "        else:\n",
    "            frequency_map[num] = 1\n",
    "\n",
    "    for num in arr[::-1]:\n",
    "        while stack and frequency_map[num] >= frequency_map[stack[-1]]:\n",
    "            stack.pop()\n",
    "\n",
    "        if stack:\n",
    "            result.append(stack[-1])\n",
    "        else:\n",
    "            result.append(-1)\n",
    "\n",
    "        stack.append(num)\n",
    "\n",
    "    return result[::-1]\n",
    "print(find_nearest_greater_frequency([1, 1, 2, 3, 4, 2, 1]))\n",
    "# Output: [-1, -1, 1, 2, 2, 1, -1]\n",
    "\n",
    "print(find_nearest_greater_frequency([1, 1, 1, 2, 2, 2, 2, 11, 3, 3]))\n",
    "# Output: [2, 2, 2, -1, -1, -1, -1, 3, -1, -1]"
   ]
  },
  {
   "cell_type": "markdown",
   "id": "881ed810",
   "metadata": {},
   "source": [
    "## **Q2.** Given a stack of integers, sort it in ascending order using another temporary stack."
   ]
  },
  {
   "cell_type": "code",
   "execution_count": 2,
   "id": "5787912d",
   "metadata": {},
   "outputs": [
    {
     "name": "stdout",
     "output_type": "stream",
     "text": [
      "[98, 92, 34, 31, 23, 3]\n",
      "[8, 5, 4, 3, 2, 1]\n"
     ]
    }
   ],
   "source": [
    "def sort_stack(stack):\n",
    "    temp_stack = []\n",
    "    \n",
    "    while stack:\n",
    "        temp = stack.pop()\n",
    "        \n",
    "        while temp_stack and temp_stack[-1] > temp:\n",
    "            stack.append(temp_stack.pop())\n",
    "        \n",
    "        temp_stack.append(temp)\n",
    "    \n",
    "    return temp_stack[::-1]\n",
    "stack1 = [34, 3, 31, 98, 92, 23]\n",
    "print(sort_stack(stack1))\n",
    "# Output: [3, 23, 31, 34, 92, 98]\n",
    "\n",
    "stack2 = [3, 5, 1, 4, 2, 8]\n",
    "print(sort_stack(stack2))\n",
    "# Output: [1, 2, 3, 4, 5, 8]"
   ]
  },
  {
   "cell_type": "markdown",
   "id": "a9e817c5",
   "metadata": {},
   "source": [
    "## **Q3.** Given a stack with **push()**, **pop()**, and **empty()** operations, The task is to delete the **middle** element ****of it without using any additional data structure."
   ]
  },
  {
   "cell_type": "code",
   "execution_count": 3,
   "id": "eb057383",
   "metadata": {},
   "outputs": [
    {
     "name": "stdout",
     "output_type": "stream",
     "text": [
      "[2, 3, 4, 5]\n",
      "[2, 3, 4, 5, 6]\n"
     ]
    }
   ],
   "source": [
    "def delete_middle(stack):\n",
    "    if len(stack) == 0:\n",
    "        return\n",
    "    \n",
    "    if len(stack) == 1:\n",
    "        stack.pop()\n",
    "        return\n",
    "    \n",
    "    temp = stack.pop()\n",
    "    delete_middle(stack)\n",
    "    stack.append(temp)\n",
    "stack1 = [1, 2, 3, 4, 5]\n",
    "delete_middle(stack1)\n",
    "print(stack1)\n",
    "# Output: [1, 2, 4, 5]\n",
    "\n",
    "stack2 = [1, 2, 3, 4, 5, 6]\n",
    "delete_middle(stack2)\n",
    "print(stack2)\n",
    "# Output: [1, 2, 4, 5, 6]"
   ]
  },
  {
   "cell_type": "markdown",
   "id": "cb3a9a4e",
   "metadata": {},
   "source": [
    "## **Q4.** Given a Queue consisting of first **n** natural numbers (in random order). The task is to check whether the given Queue elements can be arranged in increasing order in another Queue using a stack. The operation allowed are:\n",
    "\n",
    "## 1. Push and pop elements from the stack\n",
    "## 2. Pop (Or Dequeue) from the given Queue.\n",
    "## 3. Push (Or Enqueue) in the another Queue."
   ]
  },
  {
   "cell_type": "code",
   "execution_count": 4,
   "id": "e30d24b3",
   "metadata": {},
   "outputs": [
    {
     "name": "stdout",
     "output_type": "stream",
     "text": [
      "No\n",
      "Yes\n"
     ]
    }
   ],
   "source": [
    "from queue import Queue\n",
    "\n",
    "def check_arrangement(queue):\n",
    "    stack = []\n",
    "    second_queue = Queue()\n",
    "    expected = 1\n",
    "    \n",
    "    while not queue.empty():\n",
    "        if queue.queue[0] == expected:\n",
    "            queue.get()\n",
    "            expected += 1\n",
    "        elif stack and stack[-1] == expected:\n",
    "            second_queue.put(stack.pop())\n",
    "            expected += 1\n",
    "        else:\n",
    "            stack.append(queue.get())\n",
    "    \n",
    "    while stack:\n",
    "        if stack[-1] == expected:\n",
    "            second_queue.put(stack.pop())\n",
    "            expected += 1\n",
    "        else:\n",
    "            break\n",
    "    \n",
    "    return \"Yes\" if second_queue.empty() else \"No\"\n",
    "queue1 = Queue()\n",
    "queue1.put(5)\n",
    "queue1.put(1)\n",
    "queue1.put(2)\n",
    "queue1.put(3)\n",
    "queue1.put(4)\n",
    "print(check_arrangement(queue1))\n",
    "# Output: Yes\n",
    "\n",
    "queue2 = Queue()\n",
    "queue2.put(5)\n",
    "queue2.put(1)\n",
    "queue2.put(2)\n",
    "queue2.put(6)\n",
    "queue2.put(3)\n",
    "queue2.put(4)\n",
    "print(check_arrangement(queue2))\n",
    "# Output: No"
   ]
  },
  {
   "cell_type": "markdown",
   "id": "984ab99a",
   "metadata": {},
   "source": [
    "## **Q5.** Given a number , write a program to reverse this number using stack."
   ]
  },
  {
   "cell_type": "code",
   "execution_count": 5,
   "id": "85b5a4dc",
   "metadata": {},
   "outputs": [
    {
     "name": "stdout",
     "output_type": "stream",
     "text": [
      "563\n",
      "9986\n"
     ]
    }
   ],
   "source": [
    "def reverse_number(number):\n",
    "    number_str = str(number)\n",
    "    stack = []\n",
    "\n",
    "    # Push each digit onto the stack\n",
    "    for digit in number_str:\n",
    "        stack.append(digit)\n",
    "\n",
    "    reversed_number = \"\"\n",
    "\n",
    "    # Pop each digit from the stack and append it to the reversed number string\n",
    "    while stack:\n",
    "        reversed_number += stack.pop()\n",
    "\n",
    "    return int(reversed_number)\n",
    "print(reverse_number(365))\n",
    "# Output: 563\n",
    "\n",
    "print(reverse_number(6899))\n",
    "# Output: 9986"
   ]
  },
  {
   "cell_type": "markdown",
   "id": "06a87a48",
   "metadata": {},
   "source": [
    "## Q7. Given a sequence of n strings, the task is to check if any two similar words come together and then destroy each other then print the number of words left in the sequence after this pairwise destruction."
   ]
  },
  {
   "cell_type": "code",
   "execution_count": 7,
   "id": "403d5f1f",
   "metadata": {},
   "outputs": [
    {
     "name": "stdout",
     "output_type": "stream",
     "text": [
      "3\n",
      "0\n"
     ]
    }
   ],
   "source": [
    "def count_remaining_words(sequence):\n",
    "    stack = []\n",
    "    \n",
    "    for word in sequence:\n",
    "        if not stack or stack[-1] != word:\n",
    "            stack.append(word)\n",
    "        else:\n",
    "            stack.pop()\n",
    "            \n",
    "    return len(stack)\n",
    "sequence1 = ['ab', 'aa', 'aa', 'bcd', 'ab']\n",
    "print(count_remaining_words(sequence1))  # Output: 3\n",
    "\n",
    "sequence2 = ['tom', 'jerry', 'jerry', 'tom']\n",
    "print(count_remaining_words(sequence2))  # Output: 0"
   ]
  },
  {
   "cell_type": "markdown",
   "id": "317a8f39",
   "metadata": {},
   "source": [
    "## Q8. Given an array of integers, the task is to find the maximum absolute difference between the nearest left and the right smaller element of every element in the array.\n",
    "\n",
    "## **Note:** If there is no smaller element on right side or left side of any element then we take zero as the smaller element. For example for the leftmost element, the nearest smaller element on the left side is considered as 0. Similarly, for rightmost elements, the smaller element on the right side is considered as 0."
   ]
  },
  {
   "cell_type": "code",
   "execution_count": 8,
   "id": "9e554bbf",
   "metadata": {},
   "outputs": [
    {
     "name": "stdout",
     "output_type": "stream",
     "text": [
      "1\n",
      "4\n",
      "1\n"
     ]
    }
   ],
   "source": [
    "def max_absolute_difference(arr):\n",
    "    n = len(arr)\n",
    "    left_stack = []\n",
    "    right_stack = []\n",
    "    left_smaller = [0] * n\n",
    "    right_smaller = [0] * n\n",
    "\n",
    "    for i in range(n):\n",
    "        while left_stack and arr[i] <= arr[left_stack[-1]]:\n",
    "            left_stack.pop()\n",
    "\n",
    "        if left_stack:\n",
    "            left_smaller[i] = arr[left_stack[-1]]\n",
    "\n",
    "        left_stack.append(i)\n",
    "\n",
    "    for i in range(n - 1, -1, -1):\n",
    "        while right_stack and arr[i] <= arr[right_stack[-1]]:\n",
    "            right_stack.pop()\n",
    "\n",
    "        if right_stack:\n",
    "            right_smaller[i] = arr[right_stack[-1]]\n",
    "\n",
    "        right_stack.append(i)\n",
    "\n",
    "    max_diff = 0\n",
    "\n",
    "    for i in range(n):\n",
    "        diff = abs(left_smaller[i] - right_smaller[i])\n",
    "        max_diff = max(max_diff, diff)\n",
    "\n",
    "    return max_diff\n",
    "print(max_absolute_difference([2, 1, 8]))  # Output: 1\n",
    "print(max_absolute_difference([2, 4, 8, 7, 7, 9, 3]))  # Output: 4\n",
    "print(max_absolute_difference([5, 1, 9, 2, 5, 1, 7]))  # Output: 1"
   ]
  }
 ],
 "metadata": {
  "kernelspec": {
   "display_name": "Python 3 (ipykernel)",
   "language": "python",
   "name": "python3"
  },
  "language_info": {
   "codemirror_mode": {
    "name": "ipython",
    "version": 3
   },
   "file_extension": ".py",
   "mimetype": "text/x-python",
   "name": "python",
   "nbconvert_exporter": "python",
   "pygments_lexer": "ipython3",
   "version": "3.9.13"
  }
 },
 "nbformat": 4,
 "nbformat_minor": 5
}
